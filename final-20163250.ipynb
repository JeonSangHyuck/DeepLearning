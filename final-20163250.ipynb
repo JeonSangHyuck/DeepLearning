{
 "cells": [
  {
   "cell_type": "markdown",
   "id": "aa2c423a",
   "metadata": {
    "execution": {
     "iopub.execute_input": "2022-05-02T04:27:09.729446Z",
     "iopub.status.busy": "2022-05-02T04:27:09.729037Z",
     "iopub.status.idle": "2022-05-02T04:27:09.736951Z",
     "shell.execute_reply": "2022-05-02T04:27:09.7359Z",
     "shell.execute_reply.started": "2022-05-02T04:27:09.729396Z"
    },
    "papermill": {
     "duration": 0.045527,
     "end_time": "2022-06-19T05:25:33.686222",
     "exception": false,
     "start_time": "2022-06-19T05:25:33.640695",
     "status": "completed"
    },
    "tags": []
   },
   "source": [
    "# 이름 : 전상혁\n",
    "# 학번 : 20163250\n",
    "--------------\n",
    "## Final Project \n",
    "\n",
    "### Project: Painting classification\n",
    "\n",
    "### Due date: 2021.06.17\n",
    "\n",
    "### 다음 링크로 접속하여 우선 팀 명을 바꿉니다. ex)20185141_용권순\n",
    "https://www.kaggle.com/competitions/2022-deep-learning-basics-challenge\n",
    "\n",
    "#### Data로 가서 Data를 모두 다운 받습니다. 그 다음은 Template code를 따라서 진행하시면 됩니다. \n",
    ">##### 최종실행 후  csv파일을 업로드 하시면 public결과가 보여집니다. \n",
    "\n",
    "---\n",
    "\n",
    "* 아래 여러 셀에서 코드를 완성하는 부분을 수행하고, 보고서에 설명을 최대한 자세하게 적어주세요. 기준은 본인이 이해하고 있다는 것을 표현할 수 있는 부분을 모두 적으시면 됩니다.\n",
    "  \n",
    "  \n",
    "> **제출방법**: \n",
    "* 보고서에는 코드 캡쳐 첨부이외에도, 각 코드를 작성하는 기반 이론, 방법론과 설명을 작성하세요.\n",
    "---------------------------"
   ]
  },
  {
   "cell_type": "markdown",
   "id": "c7314733",
   "metadata": {
    "papermill": {
     "duration": 0.046266,
     "end_time": "2022-06-19T05:25:33.777467",
     "exception": false,
     "start_time": "2022-06-19T05:25:33.731201",
     "status": "completed"
    },
    "tags": []
   },
   "source": [
    "## Final project 규칙\n",
    "\n",
    "- 학생들 간의 질문은 금지합니다 (교수 및 조교에게 질문하세요)\n",
    "- 대 원칙은 \"내가 이해한 것만 활용하고 작성한다\" 입니다\n",
    "- 사용하는 기법들과 코드는 모두 보고서에 설명되어야하며, 설명이 없는 경우 감점이나 0점 처리합니다\n",
    "    - 예를 들어서 검색한 끝에 model ensemble이라는 기법이 유용할 것 같아서, 참고하여 성능을 개선한 경우\n",
    "        1. 참고자료의 출처를 작성할 것\n",
    "        2. 기반 이론을 설명할 것\n",
    "        3. 사용한 코드 분석 및 기법을 설명할 것\n",
    "- 주석이 없는 경우 채점하지 않습니다\n",
    "- <p style=\"color:red;\">Pretrained network은 사용하지 않습니다. 본 프로젝트에서는, random 초기화한 parameter들을 직접 학습하는 과정만 허용합니다</p>\n",
    "\n",
    "    - 랜덤 초기화 기법은 특별한 제약이 없습니다\n",
    "- Competition 순위와 보고서는 각각 5:5로 점수가 반영됩니다.\n",
    "------------------------\n",
    "\n",
    "# 주의: 최종적으로 제출한 csv파일이 code에서 돌린 파일과 일치해야합니다. \n",
    "> + 기말 프로젝트 제출 시, model의 파라메터가 저장된 pt 파일, 보고서를 같이 제출합니다. \n",
    "> + 체점 과정 중 kaggle에 올라간 최종 csv파일과 제출한 모델을 사용하여 학생이 제출한 code로 csv생성 및 비교합니다(수기 변경 방지).\n",
    "> + kaggle에 올라간 최종 csv파일과 학생이 제출한 code로 생성한 csv파일이 다를 경우 감점 요소가 생길 수 있으니 주의해주시길 바랍니다.\n",
    "\n",
    "## 제출 하기 전 모든 셀을 정리해서 커널을 다시 실행하는 것을 권장 "
   ]
  },
  {
   "cell_type": "markdown",
   "id": "03444859",
   "metadata": {
    "papermill": {
     "duration": 0.043944,
     "end_time": "2022-06-19T05:25:33.866143",
     "exception": false,
     "start_time": "2022-06-19T05:25:33.822199",
     "status": "completed"
    },
    "tags": []
   },
   "source": [
    "---\n"
   ]
  },
  {
   "cell_type": "markdown",
   "id": "79a655cb",
   "metadata": {
    "papermill": {
     "duration": 0.044022,
     "end_time": "2022-06-19T05:25:33.954618",
     "exception": false,
     "start_time": "2022-06-19T05:25:33.910596",
     "status": "completed"
    },
    "tags": []
   },
   "source": [
    "# 배경 설명\n",
    "\n",
    "> #### 여러분은 유명한 화가의 작품을 전시하는 유명한 미술관에 취업했습니다. \n",
    ">#### 최근 미술관이 대량의 작품을 입수하여, 각 화가들의 전시회를 열려고 합니다.   \n",
    ">#### 그러나 작품의 수가 너무나 많아서 사람이 분류하기에는 시간이 오래 걸릴것이라고 판단됩니다. \n",
    ">#### 이에 여러분은 딥러닝을 사용하여 효율적인 화가별 그림 분류 프로그램을 만들고자 합니다.\n",
    "\n",
    "# 목표: \n",
    "> ### 본 프로젝트의 완성본은, 새로운 그림(Image)입력하면 <p style=\"color:red\">해당 그림을 그린 화가를 예측합니다.</p>\n",
    "\n"
   ]
  },
  {
   "cell_type": "markdown",
   "id": "35846ae3",
   "metadata": {
    "papermill": {
     "duration": 0.043635,
     "end_time": "2022-06-19T05:25:34.042643",
     "exception": false,
     "start_time": "2022-06-19T05:25:33.999008",
     "status": "completed"
    },
    "tags": []
   },
   "source": [
    "-------------------------------\n",
    "------------------------------\n",
    "-----------------------------"
   ]
  },
  {
   "cell_type": "markdown",
   "id": "be3bbe1c",
   "metadata": {
    "papermill": {
     "duration": 0.044016,
     "end_time": "2022-06-19T05:25:34.131230",
     "exception": false,
     "start_time": "2022-06-19T05:25:34.087214",
     "status": "completed"
    },
    "tags": []
   },
   "source": [
    "## Step 0: Import library\n",
    "\n",
    "- 필요하다 생각되는 라이브러리를 미리 import합니다. (참고)\n",
    "- 필요 없는 라이브러리를 제거하거나 필요한 라이브러리를 추가하셔도 됩니다."
   ]
  },
  {
   "cell_type": "code",
   "execution_count": null,
   "id": "40bae58e",
   "metadata": {
    "papermill": {
     "duration": 0.043983,
     "end_time": "2022-06-19T05:25:34.219682",
     "exception": false,
     "start_time": "2022-06-19T05:25:34.175699",
     "status": "completed"
    },
    "tags": []
   },
   "outputs": [],
   "source": []
  },
  {
   "cell_type": "code",
   "execution_count": 1,
   "id": "de6d0e62",
   "metadata": {
    "execution": {
     "iopub.execute_input": "2022-06-19T05:25:34.311050Z",
     "iopub.status.busy": "2022-06-19T05:25:34.310478Z",
     "iopub.status.idle": "2022-06-19T05:25:36.953867Z",
     "shell.execute_reply": "2022-06-19T05:25:36.953104Z"
    },
    "papermill": {
     "duration": 2.691935,
     "end_time": "2022-06-19T05:25:36.956487",
     "exception": false,
     "start_time": "2022-06-19T05:25:34.264552",
     "status": "completed"
    },
    "tags": []
   },
   "outputs": [],
   "source": [
    "import os\n",
    "import glob\n",
    "import numpy as np\n",
    "import matplotlib.pyplot as plt\n",
    "from tqdm.auto import tqdm, trange\n",
    "import random\n",
    "import pandas as pd\n",
    "from PIL import Image\n",
    "from pathlib import Path\n",
    "from collections import OrderedDict\n",
    "from time import time, ctime, localtime\n",
    "import torch\n",
    "import torch.nn as nn\n",
    "import torch.optim as optim\n",
    "import torch.nn.functional as F\n",
    "from torch.utils.data.sampler import SubsetRandomSampler\n",
    "from torch.utils.data import Dataset,DataLoader\n",
    "\n",
    "import torchvision\n",
    "import torchvision.transforms as transforms\n",
    "\n",
    "from torchvision import datasets\n",
    "from torchvision import models\n",
    "\n",
    "\n",
    "from sklearn.metrics import f1_score\n",
    "from sklearn.model_selection import train_test_split,train_test_split\n",
    "from sklearn.model_selection import StratifiedKFold,  KFold\n"
   ]
  },
  {
   "cell_type": "code",
   "execution_count": 2,
   "id": "d056a281",
   "metadata": {
    "execution": {
     "iopub.execute_input": "2022-06-19T05:25:37.103970Z",
     "iopub.status.busy": "2022-06-19T05:25:37.103219Z",
     "iopub.status.idle": "2022-06-19T05:25:37.109406Z",
     "shell.execute_reply": "2022-06-19T05:25:37.108680Z"
    },
    "papermill": {
     "duration": 0.085417,
     "end_time": "2022-06-19T05:25:37.111369",
     "exception": false,
     "start_time": "2022-06-19T05:25:37.025952",
     "status": "completed"
    },
    "tags": []
   },
   "outputs": [
    {
     "name": "stdout",
     "output_type": "stream",
     "text": [
      "CUDA is not available.  Training on CPU ...\n"
     ]
    }
   ],
   "source": [
    "# CUDA 사용 가능한지 확인\n",
    "train_on_gpu = torch.cuda.is_available()\n",
    "#train_on_gpu = False\n",
    "\n",
    "if not train_on_gpu:\n",
    "    device = 'cpu'\n",
    "    print('CUDA is not available.  Training on CPU ...')\n",
    "else:\n",
    "    device = 'cuda'\n",
    "    print('CUDA is available!  Training on GPU ...')"
   ]
  },
  {
   "cell_type": "markdown",
   "id": "ebf0fad3",
   "metadata": {
    "papermill": {
     "duration": 0.071411,
     "end_time": "2022-06-19T05:25:37.258029",
     "exception": false,
     "start_time": "2022-06-19T05:25:37.186618",
     "status": "completed"
    },
    "tags": []
   },
   "source": [
    "-----------------------------------"
   ]
  },
  {
   "cell_type": "markdown",
   "id": "2dba8e4c",
   "metadata": {
    "papermill": {
     "duration": 0.07665,
     "end_time": "2022-06-19T05:25:37.410353",
     "exception": false,
     "start_time": "2022-06-19T05:25:37.333703",
     "status": "completed"
    },
    "tags": []
   },
   "source": [
    "## Step 1: Preparing Dataset \n",
    "### 1-1: 경로 설정"
   ]
  },
  {
   "cell_type": "markdown",
   "id": "d523aaeb",
   "metadata": {
    "papermill": {
     "duration": 0.071183,
     "end_time": "2022-06-19T05:25:37.553436",
     "exception": false,
     "start_time": "2022-06-19T05:25:37.482253",
     "status": "completed"
    },
    "tags": []
   },
   "source": []
  },
  {
   "cell_type": "code",
   "execution_count": 3,
   "id": "93f211b9",
   "metadata": {
    "execution": {
     "iopub.execute_input": "2022-06-19T05:25:37.699312Z",
     "iopub.status.busy": "2022-06-19T05:25:37.698923Z",
     "iopub.status.idle": "2022-06-19T05:25:37.702307Z",
     "shell.execute_reply": "2022-06-19T05:25:37.701615Z"
    },
    "papermill": {
     "duration": 0.079415,
     "end_time": "2022-06-19T05:25:37.704688",
     "exception": false,
     "start_time": "2022-06-19T05:25:37.625273",
     "status": "completed"
    },
    "tags": []
   },
   "outputs": [],
   "source": [
    "# # obtain one batch of training images\n",
    "# dataiter = iter(train_loader)\n",
    "# images, labels = dataiter.next()\n",
    "# images = images.numpy() # convert images to numpy for display\n",
    "\n",
    "# # plot the images in the batch, along with the corresponding labels\n",
    "# fig = plt.figure(figsize=(25, 4))\n",
    "# # display 20 images\n",
    "# for idx in np.arange(20):\n",
    "#     ax = fig.add_subplot(2, int(20/2), idx+1, xticks=[], yticks=[])\n",
    "#     imshow(images[idx])\n",
    "#     ax.set_title(classes[labels[idx]])"
   ]
  },
  {
   "cell_type": "code",
   "execution_count": 4,
   "id": "8de66b02",
   "metadata": {
    "execution": {
     "iopub.execute_input": "2022-06-19T05:25:37.853962Z",
     "iopub.status.busy": "2022-06-19T05:25:37.853393Z",
     "iopub.status.idle": "2022-06-19T05:25:37.857863Z",
     "shell.execute_reply": "2022-06-19T05:25:37.857095Z"
    },
    "papermill": {
     "duration": 0.081448,
     "end_time": "2022-06-19T05:25:37.860107",
     "exception": false,
     "start_time": "2022-06-19T05:25:37.778659",
     "status": "completed"
    },
    "tags": []
   },
   "outputs": [],
   "source": [
    "#본인 컴퓨터에 맞는 train folder의 위치를 입력합니다.(string)\n",
    "train_dir = '../input/2022-deep-learning-basics-challenge/painting_resize_256/train'   "
   ]
  },
  {
   "cell_type": "code",
   "execution_count": 5,
   "id": "1cbb27dc",
   "metadata": {
    "execution": {
     "iopub.execute_input": "2022-06-19T05:25:38.006285Z",
     "iopub.status.busy": "2022-06-19T05:25:38.005795Z",
     "iopub.status.idle": "2022-06-19T05:25:38.033097Z",
     "shell.execute_reply": "2022-06-19T05:25:38.032617Z"
    },
    "papermill": {
     "duration": 0.102923,
     "end_time": "2022-06-19T05:25:38.035567",
     "exception": false,
     "start_time": "2022-06-19T05:25:37.932644",
     "status": "completed"
    },
    "tags": []
   },
   "outputs": [
    {
     "name": "stdout",
     "output_type": "stream",
     "text": [
      "Total Class num:  15\n",
      "Class label:\n",
      "    1th :  Jackson_Pollock\n",
      "    2th :  Albrecht_Du_rer\n",
      "    3th :  Rembrandt\n",
      "    4th :  Vincent_van_Gogh\n",
      "    5th :  Edouard_Manet\n",
      "    6th :  Leonardo_da_Vinci\n",
      "    7th :  Piet_Mondrian\n",
      "    8th :  Francisco_Goya\n",
      "    9th :  Edgar_Degas\n",
      "   10th :  Pablo_Picasso\n",
      "   11th :  Andy_Warhol\n",
      "   12th :  Joan_Miro\n",
      "   13th :  Pierre-Auguste_Renoir\n",
      "   14th :  Claude_Monet\n",
      "   15th :  Marc_Chagall\n"
     ]
    }
   ],
   "source": [
    "# 폴더의 목록(화가의 이름)을 가지고 옵니다. 총 class : 15개  \n",
    "classes = []\n",
    "#class목록을 저장할 list \n",
    "for i in range(len(glob.glob(train_dir+'/*'))):\n",
    "    classes.append(glob.glob(train_dir+'/*')[i].split('/')[-1])\n",
    "class_num = len(classes)\n",
    "print('Total Class num: ',class_num)\n",
    "print('Class label:')\n",
    "for i in range(class_num):print('{:5d}th : ' .format(i+1),classes[i])"
   ]
  },
  {
   "cell_type": "code",
   "execution_count": 6,
   "id": "38b485fa",
   "metadata": {
    "execution": {
     "iopub.execute_input": "2022-06-19T05:25:38.179144Z",
     "iopub.status.busy": "2022-06-19T05:25:38.178872Z",
     "iopub.status.idle": "2022-06-19T05:25:38.181738Z",
     "shell.execute_reply": "2022-06-19T05:25:38.181187Z"
    },
    "papermill": {
     "duration": 0.076487,
     "end_time": "2022-06-19T05:25:38.183635",
     "exception": false,
     "start_time": "2022-06-19T05:25:38.107148",
     "status": "completed"
    },
    "tags": []
   },
   "outputs": [],
   "source": [
    "# #ABC 순서대로 정렬\n",
    "# classes = sorted(classes)\n",
    "# classes"
   ]
  },
  {
   "cell_type": "markdown",
   "id": "e81f22a3",
   "metadata": {
    "papermill": {
     "duration": 0.071821,
     "end_time": "2022-06-19T05:25:38.327406",
     "exception": false,
     "start_time": "2022-06-19T05:25:38.255585",
     "status": "completed"
    },
    "tags": []
   },
   "source": [
    "### 1-2. 제대로 read 되는지 확인 (Transform적용)"
   ]
  },
  {
   "cell_type": "code",
   "execution_count": 7,
   "id": "bc91e869",
   "metadata": {
    "execution": {
     "iopub.execute_input": "2022-06-19T05:25:38.472394Z",
     "iopub.status.busy": "2022-06-19T05:25:38.472134Z",
     "iopub.status.idle": "2022-06-19T05:25:38.476214Z",
     "shell.execute_reply": "2022-06-19T05:25:38.475718Z"
    },
    "papermill": {
     "duration": 0.078868,
     "end_time": "2022-06-19T05:25:38.478139",
     "exception": false,
     "start_time": "2022-06-19T05:25:38.399271",
     "status": "completed"
    },
    "tags": []
   },
   "outputs": [],
   "source": [
    "#이미지 확인하기 위한 함수 정의\n",
    "def check_Image(image_path,transform =None):\n",
    "    image = Image.open(image_path).convert(\"RGB\")\n",
    "    if transform ==None:\n",
    "        return image\n",
    "    else: return transform(image)"
   ]
  },
  {
   "cell_type": "code",
   "execution_count": 8,
   "id": "4ceccb45",
   "metadata": {
    "execution": {
     "iopub.execute_input": "2022-06-19T05:25:38.626107Z",
     "iopub.status.busy": "2022-06-19T05:25:38.625739Z",
     "iopub.status.idle": "2022-06-19T05:25:38.686041Z",
     "shell.execute_reply": "2022-06-19T05:25:38.685505Z"
    },
    "papermill": {
     "duration": 0.137898,
     "end_time": "2022-06-19T05:25:38.689688",
     "exception": false,
     "start_time": "2022-06-19T05:25:38.551790",
     "status": "completed"
    },
    "tags": []
   },
   "outputs": [
    {
     "data": {
      "image/png": "[encoded data removed]",
      "text/plain": [
       "<PIL.Image.Image image mode=RGB size=256x256 at 0x7FA3B05A7210>"
      ]
     },
     "execution_count": 8,
     "metadata": {},
     "output_type": "execute_result"
    }
   ],
   "source": [
    "image = \"../input/2022-deep-learning-basics-challenge/painting_resize_256/train/Andy_Warhol/Andy_Warhol_103.jpg\"\n",
    "check_Image(image)"
   ]
  },
  {
   "cell_type": "code",
   "execution_count": 9,
   "id": "df66a496",
   "metadata": {
    "execution": {
     "iopub.execute_input": "2022-06-19T05:25:38.840098Z",
     "iopub.status.busy": "2022-06-19T05:25:38.839517Z",
     "iopub.status.idle": "2022-06-19T05:25:38.864730Z",
     "shell.execute_reply": "2022-06-19T05:25:38.863669Z"
    },
    "papermill": {
     "duration": 0.102418,
     "end_time": "2022-06-19T05:25:38.866671",
     "exception": false,
     "start_time": "2022-06-19T05:25:38.764253",
     "status": "completed"
    },
    "tags": []
   },
   "outputs": [
    {
     "data": {
      "image/png": "[encoded data removed]",
      "text/plain": [
       "<PIL.Image.Image image mode=L size=256x256 at 0x7FA3B0578550>"
      ]
     },
     "execution_count": 9,
     "metadata": {},
     "output_type": "execute_result"
    }
   ],
   "source": [
    "#image가 어떤 식으로 transform 되는지 확인하고 싶을 때 사용하시면 됩니다. \n",
    "transform = transforms.Compose([transforms.Grayscale(1)])\n",
    "check_Image(image,transform)"
   ]
  },
  {
   "cell_type": "markdown",
   "id": "dc9ff6a8",
   "metadata": {
    "papermill": {
     "duration": 0.051461,
     "end_time": "2022-06-19T05:25:38.969950",
     "exception": false,
     "start_time": "2022-06-19T05:25:38.918489",
     "status": "completed"
    },
    "tags": []
   },
   "source": [
    "## Step2: Generating DataLoader for Dataset"
   ]
  },
  {
   "cell_type": "code",
   "execution_count": 10,
   "id": "64cab742",
   "metadata": {
    "execution": {
     "iopub.execute_input": "2022-06-19T05:25:39.076028Z",
     "iopub.status.busy": "2022-06-19T05:25:39.075577Z",
     "iopub.status.idle": "2022-06-19T05:25:40.619831Z",
     "shell.execute_reply": "2022-06-19T05:25:40.619282Z"
    },
    "papermill": {
     "duration": 1.599545,
     "end_time": "2022-06-19T05:25:40.621780",
     "exception": false,
     "start_time": "2022-06-19T05:25:39.022235",
     "status": "completed"
    },
    "tags": []
   },
   "outputs": [],
   "source": [
    "#train_transforms 규정\n",
    "train_transforms = transforms.Compose([\n",
    "    transforms.ToTensor(),\n",
    "    #RGB color dataset 쓰기 때문에 각 채녈 마다 mean,std 적용\n",
    "    transforms.Normalize([0.5, 0.5, 0.5], [0.5, 0.5, 0.5])]) \n",
    "\n",
    "train_data = datasets.ImageFolder(train_dir, transform = train_transforms)\n",
    "#classes ABC순으로 정렬 하기 위해 train_data.classes로 classes 정의\n",
    "classes = train_data.classes"
   ]
  },
  {
   "cell_type": "code",
   "execution_count": 11,
   "id": "66a3a1db",
   "metadata": {
    "execution": {
     "iopub.execute_input": "2022-06-19T05:25:40.721824Z",
     "iopub.status.busy": "2022-06-19T05:25:40.721369Z",
     "iopub.status.idle": "2022-06-19T05:25:40.726405Z",
     "shell.execute_reply": "2022-06-19T05:25:40.725889Z"
    },
    "papermill": {
     "duration": 0.056036,
     "end_time": "2022-06-19T05:25:40.727900",
     "exception": false,
     "start_time": "2022-06-19T05:25:40.671864",
     "status": "completed"
    },
    "tags": []
   },
   "outputs": [
    {
     "data": {
      "text/plain": [
       "['Albrecht_Du_rer',\n",
       " 'Andy_Warhol',\n",
       " 'Claude_Monet',\n",
       " 'Edgar_Degas',\n",
       " 'Edouard_Manet',\n",
       " 'Francisco_Goya',\n",
       " 'Jackson_Pollock',\n",
       " 'Joan_Miro',\n",
       " 'Leonardo_da_Vinci',\n",
       " 'Marc_Chagall',\n",
       " 'Pablo_Picasso',\n",
       " 'Pierre-Auguste_Renoir',\n",
       " 'Piet_Mondrian',\n",
       " 'Rembrandt',\n",
       " 'Vincent_van_Gogh']"
      ]
     },
     "execution_count": 11,
     "metadata": {},
     "output_type": "execute_result"
    }
   ],
   "source": [
    "classes"
   ]
  },
  {
   "cell_type": "markdown",
   "id": "d2684619",
   "metadata": {
    "execution": {
     "iopub.execute_input": "2022-05-02T07:16:33.271344Z",
     "iopub.status.busy": "2022-05-02T07:16:33.271002Z",
     "iopub.status.idle": "2022-05-02T07:16:33.277614Z",
     "shell.execute_reply": "2022-05-02T07:16:33.276446Z",
     "shell.execute_reply.started": "2022-05-02T07:16:33.271298Z"
    },
    "papermill": {
     "duration": 0.048132,
     "end_time": "2022-06-19T05:25:40.826229",
     "exception": false,
     "start_time": "2022-06-19T05:25:40.778097",
     "status": "completed"
    },
    "tags": []
   },
   "source": [
    "--------------------------"
   ]
  },
  {
   "cell_type": "code",
   "execution_count": 12,
   "id": "3d3e474f",
   "metadata": {
    "execution": {
     "iopub.execute_input": "2022-06-19T05:25:40.924643Z",
     "iopub.status.busy": "2022-06-19T05:25:40.924205Z",
     "iopub.status.idle": "2022-06-19T05:25:40.929759Z",
     "shell.execute_reply": "2022-06-19T05:25:40.929290Z"
    },
    "papermill": {
     "duration": 0.057061,
     "end_time": "2022-06-19T05:25:40.931304",
     "exception": false,
     "start_time": "2022-06-19T05:25:40.874243",
     "status": "completed"
    },
    "tags": []
   },
   "outputs": [],
   "source": [
    "# train, validation dataset spliting\n",
    "# trainig dataset의 20%를 validation으로 사용\n",
    "valid_size = 0.2\n",
    "\n",
    "num_train = len(train_data) # train_data의 수\n",
    "num_train = int(num_train) # integer로 변환\n",
    "indices = list(range(num_train)) #0~3336 list\n",
    "np.random.shuffle(indices) #list 값을 랜덤화 진행\n",
    "split = int(np.floor(valid_size * num_train)) #split = 667\n",
    "\n",
    "#train_idx -> 2670 valid_idx -> 667\n",
    "train_idx, valid_idx = indices[split:], indices[:split]\n",
    "\n",
    "\n",
    "\n",
    "# train sampler, valid sampler define\n",
    "train_sampler = SubsetRandomSampler(train_idx)\n",
    "valid_sampler = SubsetRandomSampler(valid_idx)"
   ]
  },
  {
   "cell_type": "code",
   "execution_count": 13,
   "id": "8947a0c3",
   "metadata": {
    "execution": {
     "iopub.execute_input": "2022-06-19T05:25:41.029985Z",
     "iopub.status.busy": "2022-06-19T05:25:41.029630Z",
     "iopub.status.idle": "2022-06-19T05:25:41.034108Z",
     "shell.execute_reply": "2022-06-19T05:25:41.033496Z"
    },
    "papermill": {
     "duration": 0.056083,
     "end_time": "2022-06-19T05:25:41.035586",
     "exception": false,
     "start_time": "2022-06-19T05:25:40.979503",
     "status": "completed"
    },
    "tags": []
   },
   "outputs": [
    {
     "data": {
      "text/plain": [
       "2670"
      ]
     },
     "execution_count": 13,
     "metadata": {},
     "output_type": "execute_result"
    }
   ],
   "source": [
    "len(train_sampler)"
   ]
  },
  {
   "cell_type": "code",
   "execution_count": 14,
   "id": "eb7f0227",
   "metadata": {
    "execution": {
     "iopub.execute_input": "2022-06-19T05:25:41.135742Z",
     "iopub.status.busy": "2022-06-19T05:25:41.135402Z",
     "iopub.status.idle": "2022-06-19T05:25:41.140602Z",
     "shell.execute_reply": "2022-06-19T05:25:41.139968Z"
    },
    "papermill": {
     "duration": 0.057864,
     "end_time": "2022-06-19T05:25:41.142428",
     "exception": false,
     "start_time": "2022-06-19T05:25:41.084564",
     "status": "completed"
    },
    "tags": []
   },
   "outputs": [
    {
     "data": {
      "text/plain": [
       "667"
      ]
     },
     "execution_count": 14,
     "metadata": {},
     "output_type": "execute_result"
    }
   ],
   "source": [
    "len(valid_sampler)"
   ]
  },
  {
   "cell_type": "code",
   "execution_count": 15,
   "id": "6091d293",
   "metadata": {
    "execution": {
     "iopub.execute_input": "2022-06-19T05:25:41.241860Z",
     "iopub.status.busy": "2022-06-19T05:25:41.241411Z",
     "iopub.status.idle": "2022-06-19T05:25:41.244692Z",
     "shell.execute_reply": "2022-06-19T05:25:41.244090Z"
    },
    "papermill": {
     "duration": 0.054875,
     "end_time": "2022-06-19T05:25:41.246185",
     "exception": false,
     "start_time": "2022-06-19T05:25:41.191310",
     "status": "completed"
    },
    "tags": []
   },
   "outputs": [],
   "source": [
    "# batch size define\n",
    "batch_size = 16"
   ]
  },
  {
   "cell_type": "code",
   "execution_count": 16,
   "id": "dab46781",
   "metadata": {
    "execution": {
     "iopub.execute_input": "2022-06-19T05:25:41.346604Z",
     "iopub.status.busy": "2022-06-19T05:25:41.346271Z",
     "iopub.status.idle": "2022-06-19T05:25:41.350211Z",
     "shell.execute_reply": "2022-06-19T05:25:41.349629Z"
    },
    "papermill": {
     "duration": 0.054832,
     "end_time": "2022-06-19T05:25:41.351785",
     "exception": false,
     "start_time": "2022-06-19T05:25:41.296953",
     "status": "completed"
    },
    "tags": []
   },
   "outputs": [],
   "source": [
    "# prepare data loaders (combine dataset and sampler)\n",
    "train_loader = torch.utils.data.DataLoader(train_data, batch_size=batch_size,\n",
    "    sampler=train_sampler)\n",
    "valid_loader = torch.utils.data.DataLoader(train_data, batch_size=batch_size, \n",
    "    sampler=valid_sampler)"
   ]
  },
  {
   "cell_type": "code",
   "execution_count": 17,
   "id": "ad4a56ab",
   "metadata": {
    "execution": {
     "iopub.execute_input": "2022-06-19T05:25:41.451903Z",
     "iopub.status.busy": "2022-06-19T05:25:41.451604Z",
     "iopub.status.idle": "2022-06-19T05:25:41.456962Z",
     "shell.execute_reply": "2022-06-19T05:25:41.456338Z"
    },
    "papermill": {
     "duration": 0.057367,
     "end_time": "2022-06-19T05:25:41.458510",
     "exception": false,
     "start_time": "2022-06-19T05:25:41.401143",
     "status": "completed"
    },
    "tags": []
   },
   "outputs": [
    {
     "data": {
      "text/plain": [
       "167"
      ]
     },
     "execution_count": 17,
     "metadata": {},
     "output_type": "execute_result"
    }
   ],
   "source": [
    "len(train_loader)"
   ]
  },
  {
   "cell_type": "code",
   "execution_count": 18,
   "id": "9d135870",
   "metadata": {
    "execution": {
     "iopub.execute_input": "2022-06-19T05:25:41.560938Z",
     "iopub.status.busy": "2022-06-19T05:25:41.560265Z",
     "iopub.status.idle": "2022-06-19T05:25:41.564955Z",
     "shell.execute_reply": "2022-06-19T05:25:41.564486Z"
    },
    "papermill": {
     "duration": 0.057756,
     "end_time": "2022-06-19T05:25:41.566398",
     "exception": false,
     "start_time": "2022-06-19T05:25:41.508642",
     "status": "completed"
    },
    "tags": []
   },
   "outputs": [
    {
     "data": {
      "text/plain": [
       "42"
      ]
     },
     "execution_count": 18,
     "metadata": {},
     "output_type": "execute_result"
    }
   ],
   "source": [
    "len(valid_loader)"
   ]
  },
  {
   "cell_type": "markdown",
   "id": "827666f1",
   "metadata": {
    "papermill": {
     "duration": 0.050463,
     "end_time": "2022-06-19T05:25:41.667952",
     "exception": false,
     "start_time": "2022-06-19T05:25:41.617489",
     "status": "completed"
    },
    "tags": []
   },
   "source": [
    "## Step 3: Generating Neural Network(model) \n",
    " - <p style=\"color:red;\">Pretrained network은 사용하지 않습니다. 본 프로젝트에서는, random 초기화한 parameter들을 직접 학습하는 과정만 허용합니다</p>\n",
    " - 모델을 선정한 이유를 간략하게 정리합니다."
   ]
  },
  {
   "cell_type": "code",
   "execution_count": 19,
   "id": "7be37c01",
   "metadata": {
    "execution": {
     "iopub.execute_input": "2022-06-19T05:25:41.772301Z",
     "iopub.status.busy": "2022-06-19T05:25:41.771858Z",
     "iopub.status.idle": "2022-06-19T05:25:41.926562Z",
     "shell.execute_reply": "2022-06-19T05:25:41.925835Z"
    },
    "papermill": {
     "duration": 0.208426,
     "end_time": "2022-06-19T05:25:41.928265",
     "exception": false,
     "start_time": "2022-06-19T05:25:41.719839",
     "status": "completed"
    },
    "tags": []
   },
   "outputs": [
    {
     "data": {
      "text/plain": [
       "ConvNet(\n",
       "  (conv1): Conv2d(3, 16, kernel_size=(3, 3), stride=(1, 1), padding=(1, 1))\n",
       "  (conv2): Conv2d(16, 32, kernel_size=(3, 3), stride=(1, 1), padding=(1, 1))\n",
       "  (conv3): Conv2d(32, 64, kernel_size=(3, 3), stride=(1, 1), padding=(1, 1))\n",
       "  (conv4): Conv2d(64, 128, kernel_size=(3, 3), stride=(1, 1), padding=(1, 1))\n",
       "  (conv5): Conv2d(128, 256, kernel_size=(3, 3), stride=(1, 1), padding=(1, 1))\n",
       "  (conv6): Conv2d(256, 512, kernel_size=(3, 3), stride=(1, 1), padding=(1, 1))\n",
       "  (pool): MaxPool2d(kernel_size=2, stride=2, padding=0, dilation=1, ceil_mode=False)\n",
       "  (fc1): Linear(in_features=8192, out_features=400, bias=True)\n",
       "  (fc2): Linear(in_features=400, out_features=15, bias=True)\n",
       "  (dropout): Dropout(p=0.5, inplace=False)\n",
       "  (relu): ReLU(inplace=True)\n",
       ")"
      ]
     },
     "execution_count": 19,
     "metadata": {},
     "output_type": "execute_result"
    }
   ],
   "source": [
    "# define the CNN architecture\n",
    "class ConvNet(nn.Module):\n",
    "    def __init__(self):\n",
    "        super().__init__()\n",
    "        # convolutional layer (sees 3x256x256 image tensor)\n",
    "        self.conv1 = nn.Conv2d(3,16,3,stride=1,padding=1)\n",
    "        # convolutional layer (sees 16x128x128 tensor)\n",
    "        self.conv2 = nn.Conv2d(16,32,3,stride=1,padding=1)\n",
    "        # convolutional layer (sees 32x64x64 tensor)\n",
    "        self.conv3 = nn.Conv2d(32,64,3,stride=1,padding=1)\n",
    "        # convolutional layer (sees 64x32x32 tensor)\n",
    "        self.conv4 = nn.Conv2d(64,128,3,stride=1,padding=1)\n",
    "        # convolutional layer (sees 128x16x16 tensor)\n",
    "        self.conv5 = nn.Conv2d(128,256,3,stride=1,padding=1)\n",
    "        # convolutional layer (sees 256x8x8 tensor)\n",
    "        self.conv6 = nn.Conv2d(256,512,3,stride=1,padding=1)\n",
    "        # max pooling layer\n",
    "        self.pool = nn.MaxPool2d(2,2)\n",
    "        # linear layer (512 * 4 * 4 -> 400)\n",
    "        self.fc1 = nn.Linear(512*4*4,400)\n",
    "\n",
    "        self.fc2 = nn.Linear(400,15)\n",
    "        \n",
    "        \n",
    "        # dropout layer (p=0.25)\n",
    "        self.dropout = nn.Dropout(0.5)\n",
    "        self.relu = nn.ReLU(True)\n",
    "\n",
    "    def forward(self, x):\n",
    "        # add sequence of convolutional and max pooling layers\n",
    "        x = self.pool(self.relu(self.conv1(x))) #torch.Size([16, 16, 128, 128])\n",
    "\n",
    "        x = self.pool(self.relu(self.conv2(x))) #torch.Size([16, 32, 64, 64])\n",
    "\n",
    "        x = self.pool(self.relu(self.conv3(x))) #torch.Size([16, 64, 32, 32])\n",
    "\n",
    "        x = self.pool(self.relu(self.conv4(x))) #torch.Size([16, 128, 16, 16])\n",
    " \n",
    "        x = self.pool(self.relu(self.conv5(x))) #torch.Size([16, 256, 8, 8])\n",
    "\n",
    "        x = self.pool(self.relu(self.conv6(x))) #torch.Size([16, 512, 4, 4])\n",
    "\n",
    "        # flatten image input\n",
    "        x = x.reshape(-1,512*4*4)\n",
    "        \n",
    "        # add dropout layer\n",
    "        x = self.dropout(x)\n",
    "        # add 1st hidden layer, with relu activation function\n",
    "        x = self.relu(self.fc1(x))     \n",
    "        \n",
    "        x = self.dropout(x)\n",
    "        # add 2nd hidden layer, with relu activation function\n",
    "        x = self.fc2(x)\n",
    "        \n",
    "        return x\n",
    "\n",
    "# create a complete CNN\n",
    "model = ConvNet()\n",
    "\n",
    "# move tensors to GPU if CUDA is available\n",
    "model.to(device)"
   ]
  },
  {
   "cell_type": "markdown",
   "id": "72c4768d",
   "metadata": {
    "execution": {
     "iopub.execute_input": "2022-05-02T07:16:33.271344Z",
     "iopub.status.busy": "2022-05-02T07:16:33.271002Z",
     "iopub.status.idle": "2022-05-02T07:16:33.277614Z",
     "shell.execute_reply": "2022-05-02T07:16:33.276446Z",
     "shell.execute_reply.started": "2022-05-02T07:16:33.271298Z"
    },
    "papermill": {
     "duration": 0.050319,
     "end_time": "2022-06-19T05:25:42.029440",
     "exception": false,
     "start_time": "2022-06-19T05:25:41.979121",
     "status": "completed"
    },
    "tags": []
   },
   "source": [
    "--------------------------"
   ]
  },
  {
   "cell_type": "markdown",
   "id": "5f077d21",
   "metadata": {
    "papermill": {
     "duration": 0.050033,
     "end_time": "2022-06-19T05:25:42.131032",
     "exception": false,
     "start_time": "2022-06-19T05:25:42.080999",
     "status": "completed"
    },
    "tags": []
   },
   "source": [
    "## Step 4: Selecting Cost(Loss) Function & Optimizer\n",
    "> +  [loss function](http://pytorch.org/docs/stable/nn.html#loss-functions) 및 [optimizer](http://pytorch.org/docs/stable/optim.html)를 선택하여 코드를 완성하세요.\n",
    "  링크에서 다양한 Loss Function과 Optimize Function을 확인 할 수 있습니다"
   ]
  },
  {
   "cell_type": "code",
   "execution_count": 20,
   "id": "3d48bfdf",
   "metadata": {
    "execution": {
     "iopub.execute_input": "2022-06-19T05:25:42.233702Z",
     "iopub.status.busy": "2022-06-19T05:25:42.233189Z",
     "iopub.status.idle": "2022-06-19T05:25:42.237647Z",
     "shell.execute_reply": "2022-06-19T05:25:42.236988Z"
    },
    "papermill": {
     "duration": 0.058189,
     "end_time": "2022-06-19T05:25:42.239477",
     "exception": false,
     "start_time": "2022-06-19T05:25:42.181288",
     "status": "completed"
    },
    "tags": []
   },
   "outputs": [],
   "source": [
    "# loss function 지정(categorical cross-entropy)\n",
    "criterion = nn.CrossEntropyLoss()\n",
    "\n",
    "# optimizer 지정\n",
    "optimizer = optim.Adam(model.parameters(), lr=0.0001, weight_decay=0.005)"
   ]
  },
  {
   "cell_type": "markdown",
   "id": "87dd4946",
   "metadata": {
    "execution": {
     "iopub.execute_input": "2022-05-02T07:16:33.271344Z",
     "iopub.status.busy": "2022-05-02T07:16:33.271002Z",
     "iopub.status.idle": "2022-05-02T07:16:33.277614Z",
     "shell.execute_reply": "2022-05-02T07:16:33.276446Z",
     "shell.execute_reply.started": "2022-05-02T07:16:33.271298Z"
    },
    "papermill": {
     "duration": 0.050627,
     "end_time": "2022-06-19T05:25:42.340274",
     "exception": false,
     "start_time": "2022-06-19T05:25:42.289647",
     "status": "completed"
    },
    "tags": []
   },
   "source": [
    "--------------------------"
   ]
  },
  {
   "cell_type": "markdown",
   "id": "3cc11f5a",
   "metadata": {
    "papermill": {
     "duration": 0.050254,
     "end_time": "2022-06-19T05:25:42.440524",
     "exception": false,
     "start_time": "2022-06-19T05:25:42.390270",
     "status": "completed"
    },
    "tags": []
   },
   "source": [
    "## Step 5: Train and validate the configured model\n",
    "### 학습 및 검증 과정을 진행합니다\n",
    "+ 학습 과정을 주석으로 설명하세요 \n",
    "+ Epoch별로 Loss, Accuracy를 출력하여 학습 진행 과정을 확인 할 수 있도록 합니다\n",
    "+ 출력 예시는 주어지나 정해진 형식은 없습니다\n",
    "+ 최적의 모델 파라메터를 저장합니다.\n",
    "\n",
    "For example : \n",
    "```python\n",
    "Started Training...\n",
    "Epoch: 1    Training Loss: 3.317162     Validation Loss: 4.162958\n",
    "Epoch: 2    Training Loss: 2.420140     Validation Loss: 4.182362\n",
    "...\n",
    "...\n",
    "Finished training\n",
    "```"
   ]
  },
  {
   "cell_type": "code",
   "execution_count": 21,
   "id": "43aede68",
   "metadata": {
    "execution": {
     "iopub.execute_input": "2022-06-19T05:25:42.542289Z",
     "iopub.status.busy": "2022-06-19T05:25:42.541804Z",
     "iopub.status.idle": "2022-06-19T05:44:08.841669Z",
     "shell.execute_reply": "2022-06-19T05:44:08.841027Z"
    },
    "papermill": {
     "duration": 1106.406255,
     "end_time": "2022-06-19T05:44:08.896150",
     "exception": false,
     "start_time": "2022-06-19T05:25:42.489895",
     "status": "completed"
    },
    "tags": []
   },
   "outputs": [
    {
     "name": "stdout",
     "output_type": "stream",
     "text": [
      "Started Training...\n",
      "Epoch: 0 \tTraining Loss: 2.437420 \tValidation Loss: 2.302240\n",
      "Epoch: 0 \tTraining accuracy: 0.195894 \tValidation accuracy: 0.205357\n",
      "Validation loss decreased (inf --> 2.302240).  Saving model ...\n",
      "Epoch: 1 \tTraining Loss: 2.264988 \tValidation Loss: 2.168957\n",
      "Epoch: 1 \tTraining accuracy: 0.253529 \tValidation accuracy: 0.286932\n",
      "Validation loss decreased (2.302240 --> 2.168957).  Saving model ...\n",
      "Epoch: 2 \tTraining Loss: 2.156456 \tValidation Loss: 2.152743\n",
      "Epoch: 2 \tTraining accuracy: 0.293467 \tValidation accuracy: 0.309253\n",
      "Validation loss decreased (2.168957 --> 2.152743).  Saving model ...\n",
      "Epoch: 3 \tTraining Loss: 2.073055 \tValidation Loss: 2.024483\n",
      "Epoch: 3 \tTraining accuracy: 0.344686 \tValidation accuracy: 0.342803\n",
      "Validation loss decreased (2.152743 --> 2.024483).  Saving model ...\n",
      "Epoch: 4 \tTraining Loss: 2.003651 \tValidation Loss: 1.966023\n",
      "Epoch: 4 \tTraining accuracy: 0.380133 \tValidation accuracy: 0.365260\n",
      "Validation loss decreased (2.024483 --> 1.966023).  Saving model ...\n",
      "Epoch: 5 \tTraining Loss: 1.918835 \tValidation Loss: 1.871996\n",
      "Epoch: 5 \tTraining accuracy: 0.393178 \tValidation accuracy: 0.405168\n",
      "Validation loss decreased (1.966023 --> 1.871996).  Saving model ...\n",
      "Epoch: 6 \tTraining Loss: 1.883791 \tValidation Loss: 1.822439\n",
      "Epoch: 6 \tTraining accuracy: 0.400182 \tValidation accuracy: 0.394210\n",
      "Validation loss decreased (1.871996 --> 1.822439).  Saving model ...\n",
      "Epoch: 7 \tTraining Loss: 1.822229 \tValidation Loss: 1.821061\n",
      "Epoch: 7 \tTraining accuracy: 0.423278 \tValidation accuracy: 0.414096\n",
      "Validation loss decreased (1.822439 --> 1.821061).  Saving model ...\n",
      "Epoch: 8 \tTraining Loss: 1.793783 \tValidation Loss: 1.799416\n",
      "Epoch: 8 \tTraining accuracy: 0.421674 \tValidation accuracy: 0.415043\n",
      "Validation loss decreased (1.821061 --> 1.799416).  Saving model ...\n",
      "Epoch: 9 \tTraining Loss: 1.767744 \tValidation Loss: 1.731962\n",
      "Epoch: 9 \tTraining accuracy: 0.440922 \tValidation accuracy: 0.443858\n",
      "Validation loss decreased (1.799416 --> 1.731962).  Saving model ...\n",
      "Finished Training...\n"
     ]
    }
   ],
   "source": [
    "print('Started Training...')\n",
    "\n",
    "# number of epochs to train the model\n",
    "n_epochs = 10\n",
    "\n",
    "valid_loss_min = np.Inf # track change in validation loss\n",
    "\n",
    "# keep track of training and validation loss\n",
    "train_loss = torch.zeros(n_epochs)\n",
    "valid_loss = torch.zeros(n_epochs)\n",
    "\n",
    "train_acc = torch.zeros(n_epochs)\n",
    "valid_acc = torch.zeros(n_epochs)\n",
    "\n",
    "for e in range(0, n_epochs):\n",
    "\n",
    "   \n",
    "    ###################\n",
    "    # train the model #\n",
    "    ###################\n",
    "    model.train()\n",
    "    for data, labels in train_loader:\n",
    "        # move tensors to GPU if CUDA is available\n",
    "        data, labels = data.to(device), labels.to(device)\n",
    "        # clear the gradients of all optimized variables\n",
    "        \n",
    "        optimizer.zero_grad()\n",
    "        # forward pass: compute predicted outputs by passing inputs to the model\n",
    "        logits = model(data)\n",
    "        # calculate the batch loss\n",
    "        loss = criterion(logits, labels)\n",
    "        # backward pass: compute gradient of the loss with respect to model parameters\n",
    "        loss.backward()\n",
    "        # perform a single optimization step (parameter update)\n",
    "        optimizer.step()\n",
    "        # update training loss\n",
    "        train_loss[e] += loss.item()\n",
    "        \n",
    "        ps = F.softmax(logits, dim=1)\n",
    "        top_p, top_class = ps.topk(1, dim=1)\n",
    "        equals = top_class == labels.reshape(top_class.shape)\n",
    "        train_acc[e] += torch.mean(equals.type(torch.float)).detach().cpu()\n",
    "    \n",
    "    train_loss[e] /= len(train_loader)\n",
    "    train_acc[e] /= len(train_loader)\n",
    "        \n",
    "        \n",
    "    ######################    \n",
    "    # validate the model #\n",
    "    ######################\n",
    "    with torch.no_grad(): \n",
    "        model.eval()\n",
    "        for data, labels in valid_loader:\n",
    "            # move tensors to GPU if CUDA is available\n",
    "            data, labels = data.to(device), labels.to(device)\n",
    "            # forward pass: compute predicted outputs by passing inputs to the model\n",
    "            logits = model(data)\n",
    "            # calculate the batch loss\n",
    "            loss = criterion(logits, labels)\n",
    "            # update average validation loss \n",
    "            valid_loss[e] += loss.item()\n",
    "\n",
    "            ps = F.softmax(logits, dim=1)\n",
    "            top_p, top_class = ps.topk(1, dim=1)\n",
    "            equals = top_class == labels.reshape(top_class.shape)\n",
    "            valid_acc[e] += torch.mean(equals.type(torch.float)).detach().cpu()\n",
    "    \n",
    "    # calculate average losses\n",
    "    valid_loss[e] /= len(valid_loader)\n",
    "    valid_acc[e] /= len(valid_loader)\n",
    "        \n",
    "    # print training/validation statistics \n",
    "    print('Epoch: {} \\tTraining Loss: {:.6f} \\tValidation Loss: {:.6f}'.format(\n",
    "        e, train_loss[e], valid_loss[e]))\n",
    "    \n",
    "     # print training/validation statistics \n",
    "    print('Epoch: {} \\tTraining accuracy: {:.6f} \\tValidation accuracy: {:.6f}'.format(\n",
    "        e, train_acc[e], valid_acc[e]))\n",
    "    \n",
    "    # save model if validation loss has decreased\n",
    "    if valid_loss[e] <= valid_loss_min:\n",
    "        print('Validation loss decreased ({:.6f} --> {:.6f}).  Saving model ...'.format(\n",
    "        valid_loss_min,\n",
    "        valid_loss[e]))\n",
    "        torch.save(model.state_dict(), 'model_cov.pt')\n",
    "        valid_loss_min = valid_loss[e]\n",
    "\n",
    "print('Finished Training...')"
   ]
  },
  {
   "cell_type": "markdown",
   "id": "6ae32da6",
   "metadata": {
    "execution": {
     "iopub.execute_input": "2022-05-02T07:16:33.271344Z",
     "iopub.status.busy": "2022-05-02T07:16:33.271002Z",
     "iopub.status.idle": "2022-05-02T07:16:33.277614Z",
     "shell.execute_reply": "2022-05-02T07:16:33.276446Z",
     "shell.execute_reply.started": "2022-05-02T07:16:33.271298Z"
    },
    "papermill": {
     "duration": 0.05488,
     "end_time": "2022-06-19T05:44:09.005767",
     "exception": false,
     "start_time": "2022-06-19T05:44:08.950887",
     "status": "completed"
    },
    "tags": []
   },
   "source": [
    "--------------------------"
   ]
  },
  {
   "cell_type": "markdown",
   "id": "a27b501c",
   "metadata": {
    "papermill": {
     "duration": 0.055056,
     "end_time": "2022-06-19T05:44:09.116227",
     "exception": false,
     "start_time": "2022-06-19T05:44:09.061171",
     "status": "completed"
    },
    "tags": []
   },
   "source": [
    "## Step 6: Analyze the  training/validation results\n",
    "+ 위에서 구한 학습 결과를 분석합니다. \n",
    "+ 수업에서 배운 그래프를 활용하시는 것을 적극 추천드립니다.\n",
    "+ 만족할만한 결과가 나올 때 까지 Hyper Parameter Tuning을 진행합니다. "
   ]
  },
  {
   "cell_type": "code",
   "execution_count": 22,
   "id": "80e3b986",
   "metadata": {
    "execution": {
     "iopub.execute_input": "2022-06-19T05:44:09.227972Z",
     "iopub.status.busy": "2022-06-19T05:44:09.227473Z",
     "iopub.status.idle": "2022-06-19T05:44:09.443744Z",
     "shell.execute_reply": "2022-06-19T05:44:09.443171Z"
    },
    "papermill": {
     "duration": 0.274083,
     "end_time": "2022-06-19T05:44:09.445394",
     "exception": false,
     "start_time": "2022-06-19T05:44:09.171311",
     "status": "completed"
    },
    "tags": []
   },
   "outputs": [
    {
     "data": {
      "text/plain": [
       "<matplotlib.legend.Legend at 0x7fa3adb60790>"
      ]
     },
     "execution_count": 22,
     "metadata": {},
     "output_type": "execute_result"
    },
    {
     "data": {
      "image/png": "[encoded data removed]",
      "text/plain": [
       "<Figure size 432x288 with 1 Axes>"
      ]
     },
     "metadata": {
      "needs_background": "light"
     },
     "output_type": "display_data"
    }
   ],
   "source": [
    "# loss graph \n",
    "plt.plot(train_loss, label = 'training loss')\n",
    "plt.plot(valid_loss, label = 'validation loss')\n",
    "plt.legend()"
   ]
  },
  {
   "cell_type": "code",
   "execution_count": 23,
   "id": "8f09ed17",
   "metadata": {
    "execution": {
     "iopub.execute_input": "2022-06-19T05:44:09.559080Z",
     "iopub.status.busy": "2022-06-19T05:44:09.558567Z",
     "iopub.status.idle": "2022-06-19T05:44:09.737021Z",
     "shell.execute_reply": "2022-06-19T05:44:09.736410Z"
    },
    "papermill": {
     "duration": 0.23698,
     "end_time": "2022-06-19T05:44:09.738575",
     "exception": false,
     "start_time": "2022-06-19T05:44:09.501595",
     "status": "completed"
    },
    "tags": []
   },
   "outputs": [
    {
     "data": {
      "text/plain": [
       "<matplotlib.legend.Legend at 0x7fa3a5c89490>"
      ]
     },
     "execution_count": 23,
     "metadata": {},
     "output_type": "execute_result"
    },
    {
     "data": {
      "image/png": "[encoded data removed]",
      "text/plain": [
       "<Figure size 432x288 with 1 Axes>"
      ]
     },
     "metadata": {
      "needs_background": "light"
     },
     "output_type": "display_data"
    }
   ],
   "source": [
    "# accuracy graph\n",
    "plt.plot(train_acc, label = 'training accuracy')\n",
    "plt.plot(valid_acc, label = 'validation accuracy')\n",
    "plt.legend()"
   ]
  },
  {
   "cell_type": "code",
   "execution_count": 24,
   "id": "2048bdd1",
   "metadata": {
    "execution": {
     "iopub.execute_input": "2022-06-19T05:44:09.852236Z",
     "iopub.status.busy": "2022-06-19T05:44:09.851791Z",
     "iopub.status.idle": "2022-06-19T05:44:09.894465Z",
     "shell.execute_reply": "2022-06-19T05:44:09.893655Z"
    },
    "papermill": {
     "duration": 0.102263,
     "end_time": "2022-06-19T05:44:09.896647",
     "exception": false,
     "start_time": "2022-06-19T05:44:09.794384",
     "status": "completed"
    },
    "tags": []
   },
   "outputs": [],
   "source": [
    "# save optimizer\n",
    "torch.save(optimizer.state_dict(), 'opt_statedict.pt')"
   ]
  },
  {
   "cell_type": "code",
   "execution_count": 25,
   "id": "219f5f5f",
   "metadata": {
    "execution": {
     "iopub.execute_input": "2022-06-19T05:44:10.015143Z",
     "iopub.status.busy": "2022-06-19T05:44:10.014837Z",
     "iopub.status.idle": "2022-06-19T05:44:10.077959Z",
     "shell.execute_reply": "2022-06-19T05:44:10.076936Z"
    },
    "papermill": {
     "duration": 0.124215,
     "end_time": "2022-06-19T05:44:10.080288",
     "exception": false,
     "start_time": "2022-06-19T05:44:09.956073",
     "status": "completed"
    },
    "tags": []
   },
   "outputs": [],
   "source": [
    "# save checkpoint\n",
    "checkpoint = {'model_cov': model.state_dict(),\n",
    "             'optimizer_state_dict': optimizer.state_dict()}\n",
    "\n",
    "torch.save(checkpoint, 'checkpoint.pt')"
   ]
  },
  {
   "cell_type": "code",
   "execution_count": 26,
   "id": "8cb104b1",
   "metadata": {
    "execution": {
     "iopub.execute_input": "2022-06-19T05:44:10.195614Z",
     "iopub.status.busy": "2022-06-19T05:44:10.195333Z",
     "iopub.status.idle": "2022-06-19T05:44:10.220658Z",
     "shell.execute_reply": "2022-06-19T05:44:10.219695Z"
    },
    "papermill": {
     "duration": 0.086336,
     "end_time": "2022-06-19T05:44:10.223044",
     "exception": false,
     "start_time": "2022-06-19T05:44:10.136708",
     "status": "completed"
    },
    "tags": []
   },
   "outputs": [],
   "source": [
    "torch.save(model, 'model.pt')"
   ]
  },
  {
   "cell_type": "markdown",
   "id": "9fcf66a1",
   "metadata": {
    "execution": {
     "iopub.execute_input": "2022-05-02T07:16:33.271344Z",
     "iopub.status.busy": "2022-05-02T07:16:33.271002Z",
     "iopub.status.idle": "2022-05-02T07:16:33.277614Z",
     "shell.execute_reply": "2022-05-02T07:16:33.276446Z",
     "shell.execute_reply.started": "2022-05-02T07:16:33.271298Z"
    },
    "papermill": {
     "duration": 0.055994,
     "end_time": "2022-06-19T05:44:10.334929",
     "exception": false,
     "start_time": "2022-06-19T05:44:10.278935",
     "status": "completed"
    },
    "tags": []
   },
   "source": [
    "--------------------------"
   ]
  },
  {
   "cell_type": "markdown",
   "id": "b9cacd0b",
   "metadata": {
    "execution": {
     "iopub.execute_input": "2022-04-29T07:02:16.640927Z",
     "iopub.status.busy": "2022-04-29T07:02:16.640238Z",
     "iopub.status.idle": "2022-04-29T07:02:16.644942Z",
     "shell.execute_reply": "2022-04-29T07:02:16.644001Z",
     "shell.execute_reply.started": "2022-04-29T07:02:16.640891Z"
    },
    "papermill": {
     "duration": 0.056792,
     "end_time": "2022-06-19T05:44:10.448726",
     "exception": false,
     "start_time": "2022-06-19T05:44:10.391934",
     "status": "completed"
    },
    "tags": []
   },
   "source": [
    "## Step 7: Define Test Data Set\n",
    "> Test data를 위한 Custom Test Dataset을 제공해드립니다.   \n",
    "> 필요한 부분을 채워 사용하시거나 직접 코드를 작성하셔도 됩니다."
   ]
  },
  {
   "cell_type": "code",
   "execution_count": 27,
   "id": "715f267f",
   "metadata": {
    "execution": {
     "iopub.execute_input": "2022-06-19T05:44:10.565511Z",
     "iopub.status.busy": "2022-06-19T05:44:10.565249Z",
     "iopub.status.idle": "2022-06-19T05:44:10.572572Z",
     "shell.execute_reply": "2022-06-19T05:44:10.571483Z"
    },
    "papermill": {
     "duration": 0.067352,
     "end_time": "2022-06-19T05:44:10.574111",
     "exception": false,
     "start_time": "2022-06-19T05:44:10.506759",
     "status": "completed"
    },
    "tags": []
   },
   "outputs": [],
   "source": [
    "'''Custom Dataset을 제작하기 위해서는 3가지를 반드시 포함해야합니다. \n",
    "1.def __init__()      :초기화 함수입니다. Dataset을 상속받아 imagepath와 transform을 지정합니다.\n",
    "2.def __len__()       :dataset의 총 길이를 return하는 함수입니다. \n",
    "3.def __getitem__()   :index(idx)에 해당하는 data sample을 return 하는 함수입니다. \n",
    "'''\n",
    "class test_Dataset(Dataset): #test_set을 class로 정의합니다.\n",
    "    def __init__(self,imgpath,transform=None):\n",
    "        \n",
    "        self.imgpath = imgpath\n",
    "        self.transform = transform\n",
    "        \n",
    "    def __len__(self):\n",
    "        return len(self.imgpath)\n",
    "    \n",
    "    def __getitem__(self,idx):\n",
    "        if self.transform !=None:\n",
    "            x = self.transform(Image.open(self.imgpath[idx]).convert('RGB'))\n",
    "        else: x = Image.open(self.imgpath[idx]).convert('RGB')\n",
    "        return x"
   ]
  },
  {
   "cell_type": "code",
   "execution_count": 28,
   "id": "b8f9c118",
   "metadata": {
    "execution": {
     "iopub.execute_input": "2022-06-19T05:44:10.688705Z",
     "iopub.status.busy": "2022-06-19T05:44:10.688408Z",
     "iopub.status.idle": "2022-06-19T05:44:11.038240Z",
     "shell.execute_reply": "2022-06-19T05:44:11.037643Z"
    },
    "papermill": {
     "duration": 0.410182,
     "end_time": "2022-06-19T05:44:11.040671",
     "exception": false,
     "start_time": "2022-06-19T05:44:10.630489",
     "status": "completed"
    },
    "tags": []
   },
   "outputs": [],
   "source": [
    "test_dir = '../input/2022-deep-learning-basics-challenge/painting_resize_256/test'\n",
    "#test_transform 정의 \n",
    "test_transform = torchvision.transforms.Compose([transforms.ToTensor(), transforms.Normalize([0.5, 0.5, 0.5], [0.5, 0.5, 0.5])])\n",
    "\n",
    "test_set  = sorted(glob.glob(test_dir+'/*')) #모든 파일을 읽어서 정리합니다. \n",
    "test_data = test_Dataset(test_set,test_transform)\n",
    "\n",
    "#Data Loader 작성 , (tip: test이므로 Shuffle을 할 필요가 없습니다. )\n",
    "test_Dataloader = torch.utils.data.DataLoader(test_data, batch_size=len(test_data))"
   ]
  },
  {
   "cell_type": "code",
   "execution_count": 29,
   "id": "b607a8fd",
   "metadata": {
    "execution": {
     "iopub.execute_input": "2022-06-19T05:44:11.215608Z",
     "iopub.status.busy": "2022-06-19T05:44:11.215128Z",
     "iopub.status.idle": "2022-06-19T05:44:11.219529Z",
     "shell.execute_reply": "2022-06-19T05:44:11.218495Z"
    },
    "papermill": {
     "duration": 0.092854,
     "end_time": "2022-06-19T05:44:11.221587",
     "exception": false,
     "start_time": "2022-06-19T05:44:11.128733",
     "status": "completed"
    },
    "tags": []
   },
   "outputs": [
    {
     "name": "stdout",
     "output_type": "stream",
     "text": [
      "test_data_len: 834\n"
     ]
    }
   ],
   "source": [
    "# test data 수 체크\n",
    "print(\"test_data_len:\", test_data.__len__())"
   ]
  },
  {
   "cell_type": "markdown",
   "id": "c08917ac",
   "metadata": {
    "papermill": {
     "duration": 0.086113,
     "end_time": "2022-06-19T05:44:11.394502",
     "exception": false,
     "start_time": "2022-06-19T05:44:11.308389",
     "status": "completed"
    },
    "tags": []
   },
   "source": [
    "----------------"
   ]
  },
  {
   "cell_type": "markdown",
   "id": "8f152a96",
   "metadata": {
    "papermill": {
     "duration": 0.08603,
     "end_time": "2022-06-19T05:44:11.570499",
     "exception": false,
     "start_time": "2022-06-19T05:44:11.484469",
     "status": "completed"
    },
    "tags": []
   },
   "source": [
    "## Step 8(Final): Predict with Test Data\n",
    "### Step 8-1: Predict \n",
    "+ test data를 우리의 모델로 예측합니다."
   ]
  },
  {
   "cell_type": "code",
   "execution_count": 30,
   "id": "b8e365a5",
   "metadata": {
    "execution": {
     "iopub.execute_input": "2022-06-19T05:44:11.744567Z",
     "iopub.status.busy": "2022-06-19T05:44:11.744311Z",
     "iopub.status.idle": "2022-06-19T05:44:11.752650Z",
     "shell.execute_reply": "2022-06-19T05:44:11.751787Z"
    },
    "papermill": {
     "duration": 0.098043,
     "end_time": "2022-06-19T05:44:11.754740",
     "exception": false,
     "start_time": "2022-06-19T05:44:11.656697",
     "status": "completed"
    },
    "tags": []
   },
   "outputs": [
    {
     "name": "stdout",
     "output_type": "stream",
     "text": [
      "Total Class num:  15\n",
      "Class label:\n",
      "    1th :  Albrecht_Du_rer\n",
      "    2th :  Andy_Warhol\n",
      "    3th :  Claude_Monet\n",
      "    4th :  Edgar_Degas\n",
      "    5th :  Edouard_Manet\n",
      "    6th :  Francisco_Goya\n",
      "    7th :  Jackson_Pollock\n",
      "    8th :  Joan_Miro\n",
      "    9th :  Leonardo_da_Vinci\n",
      "   10th :  Marc_Chagall\n",
      "   11th :  Pablo_Picasso\n",
      "   12th :  Pierre-Auguste_Renoir\n",
      "   13th :  Piet_Mondrian\n",
      "   14th :  Rembrandt\n",
      "   15th :  Vincent_van_Gogh\n"
     ]
    }
   ],
   "source": [
    "#class 재 확인 15개인지 확인하십시오 \n",
    "print('Total Class num: ',class_num)\n",
    "print('Class label:')\n",
    "for i in range(class_num):print('{:5d}th : ' .format(i+1),classes[i])"
   ]
  },
  {
   "cell_type": "code",
   "execution_count": 31,
   "id": "bc9d08fe",
   "metadata": {
    "execution": {
     "iopub.execute_input": "2022-06-19T05:44:11.931191Z",
     "iopub.status.busy": "2022-06-19T05:44:11.930740Z",
     "iopub.status.idle": "2022-06-19T05:44:11.942641Z",
     "shell.execute_reply": "2022-06-19T05:44:11.942118Z"
    },
    "papermill": {
     "duration": 0.102402,
     "end_time": "2022-06-19T05:44:11.944462",
     "exception": false,
     "start_time": "2022-06-19T05:44:11.842060",
     "status": "completed"
    },
    "tags": []
   },
   "outputs": [
    {
     "data": {
      "text/plain": [
       "ConvNet(\n",
       "  (conv1): Conv2d(3, 16, kernel_size=(3, 3), stride=(1, 1), padding=(1, 1))\n",
       "  (conv2): Conv2d(16, 32, kernel_size=(3, 3), stride=(1, 1), padding=(1, 1))\n",
       "  (conv3): Conv2d(32, 64, kernel_size=(3, 3), stride=(1, 1), padding=(1, 1))\n",
       "  (conv4): Conv2d(64, 128, kernel_size=(3, 3), stride=(1, 1), padding=(1, 1))\n",
       "  (conv5): Conv2d(128, 256, kernel_size=(3, 3), stride=(1, 1), padding=(1, 1))\n",
       "  (conv6): Conv2d(256, 512, kernel_size=(3, 3), stride=(1, 1), padding=(1, 1))\n",
       "  (pool): MaxPool2d(kernel_size=2, stride=2, padding=0, dilation=1, ceil_mode=False)\n",
       "  (fc1): Linear(in_features=8192, out_features=400, bias=True)\n",
       "  (fc2): Linear(in_features=400, out_features=15, bias=True)\n",
       "  (dropout): Dropout(p=0.5, inplace=False)\n",
       "  (relu): ReLU(inplace=True)\n",
       ")"
      ]
     },
     "execution_count": 31,
     "metadata": {},
     "output_type": "execute_result"
    }
   ],
   "source": [
    "# 모델 불러오기\n",
    "#최적의 모델 로드해서 predict를 진행합니다.\n",
    "\n",
    "model.load_state_dict(torch.load('model_cov.pt'))\n",
    "model.eval()"
   ]
  },
  {
   "cell_type": "code",
   "execution_count": 32,
   "id": "b3ea7873",
   "metadata": {
    "execution": {
     "iopub.execute_input": "2022-06-19T05:44:12.120269Z",
     "iopub.status.busy": "2022-06-19T05:44:12.120017Z",
     "iopub.status.idle": "2022-06-19T05:44:40.286693Z",
     "shell.execute_reply": "2022-06-19T05:44:40.277681Z"
    },
    "papermill": {
     "duration": 28.266744,
     "end_time": "2022-06-19T05:44:40.298537",
     "exception": false,
     "start_time": "2022-06-19T05:44:12.031793",
     "status": "completed"
    },
    "tags": []
   },
   "outputs": [],
   "source": [
    "# obtain one batch of test images\n",
    "dataiter = iter(test_Dataloader)\n",
    "images = dataiter.next()\n",
    "images.numpy()\n",
    "\n",
    "# move model inputs to cuda, if GPU available\n",
    "if train_on_gpu:\n",
    "    images = images.cuda()\n",
    "\n",
    "# get sample outputs\n",
    "output = model(images)\n",
    "# convert output probabilities to predicted class\n",
    "_, preds_tensor = torch.max(output, 1)\n",
    "pred = np.squeeze(preds_tensor.numpy()) if not train_on_gpu else np.squeeze(preds_tensor.cpu().numpy())"
   ]
  },
  {
   "cell_type": "code",
   "execution_count": 33,
   "id": "c8eae814",
   "metadata": {
    "execution": {
     "iopub.execute_input": "2022-06-19T05:44:40.483549Z",
     "iopub.status.busy": "2022-06-19T05:44:40.482358Z",
     "iopub.status.idle": "2022-06-19T05:44:40.506270Z",
     "shell.execute_reply": "2022-06-19T05:44:40.505703Z"
    },
    "papermill": {
     "duration": 0.11514,
     "end_time": "2022-06-19T05:44:40.507869",
     "exception": false,
     "start_time": "2022-06-19T05:44:40.392729",
     "status": "completed"
    },
    "tags": []
   },
   "outputs": [
    {
     "data": {
      "text/plain": [
       "array([14,  9,  0, 14, 14, 10,  0,  3, 13,  3, 13,  3,  0, 13, 10, 14,  3,\n",
       "        3, 14,  3,  3,  3, 10,  3,  3,  3, 14,  0,  9, 14,  9,  0, 14,  3,\n",
       "       14, 14, 14,  5, 10, 10,  3,  3,  9, 13, 14, 14,  0,  9, 14, 13, 14,\n",
       "        9,  9,  0,  3, 14,  9, 14, 14, 13,  3, 14, 14, 10, 14,  9,  3,  5,\n",
       "       10,  3, 10,  3,  3, 14, 10,  9, 13,  3,  3, 10,  3,  0,  3,  3, 13,\n",
       "       14,  3,  5,  3, 10,  3,  0,  0, 14, 10, 14,  9,  3,  3, 14,  3, 13,\n",
       "        0,  3, 14, 10,  0,  3,  5, 10,  3, 14, 14,  3, 10,  3,  3,  0,  9,\n",
       "        3,  3, 14, 14, 14,  3, 14, 14,  0, 14, 10,  3, 14, 10,  3,  9, 10,\n",
       "       14, 14,  5,  3,  0, 14,  0, 14,  3, 14,  3, 10,  0, 13, 10, 14, 14,\n",
       "       10, 11,  3, 14,  3, 10, 14, 10,  0, 10,  0,  1, 14,  3, 10,  3,  0,\n",
       "       13,  0, 10,  0,  3, 14,  3, 14,  9, 14,  3, 14,  9, 14,  3, 14,  3,\n",
       "       14, 14, 14,  9, 14,  3, 13,  3, 14, 10, 13,  3,  3, 10, 10, 14,  9,\n",
       "       10,  3, 10, 14,  0, 14, 13,  3, 14,  9,  3,  3, 14,  3,  0,  0,  5,\n",
       "        0, 11, 14,  5, 14, 14,  3, 10,  5, 14, 14, 14,  9, 14,  0,  5,  3,\n",
       "       10,  9, 14, 14,  9, 14, 10, 14, 13, 14, 13, 14,  3, 14, 14, 14,  3,\n",
       "        3, 14,  3, 10,  9, 14,  3,  9,  5,  3,  3, 10, 14, 14,  3,  3, 10,\n",
       "       13,  3, 14, 14, 10, 11, 11, 14, 10, 13, 14, 14, 10, 14,  3,  3, 10,\n",
       "       14, 14,  9, 14,  3, 14, 13,  3,  3,  3, 13, 10, 13,  3,  3,  0, 14,\n",
       "        3, 14,  3,  3, 14, 14, 14,  3,  3,  3,  3, 10, 14, 13, 10, 14, 10,\n",
       "       13,  5,  0, 10, 14, 14,  0, 14,  0, 13, 14, 14,  3, 14, 10,  3,  9,\n",
       "       14,  3, 14, 10,  3,  9, 13,  3,  0,  3, 14, 14, 14, 13, 14,  3,  3,\n",
       "       10,  3,  3,  3,  5,  3,  9,  5, 10, 14,  5, 14, 14, 13, 13, 14, 10,\n",
       "        0,  3, 14,  0, 14,  3,  9, 10,  3,  9,  3,  5,  0,  3,  0,  0,  0,\n",
       "       14,  5, 14,  9,  5, 13, 14, 10,  0, 14,  3, 13, 10, 14,  3, 10, 10,\n",
       "       14,  3, 14,  5,  3,  9,  3, 14, 10, 14,  9,  5,  3, 14, 14, 14,  3,\n",
       "       13, 10,  9,  5, 14,  3, 14,  3,  3, 14,  3, 10,  3,  5,  3, 13,  0,\n",
       "       10,  5,  3, 14, 10,  5, 14,  3,  0, 14, 14,  5, 10,  3,  0,  3, 14,\n",
       "        3,  0,  3,  9, 14,  9, 14,  3,  9, 14, 13,  3,  3, 14, 11, 13, 11,\n",
       "        3,  0, 10,  9,  3,  3,  3,  9, 14, 10,  5, 13, 11, 10,  0,  3,  0,\n",
       "        3, 13,  3, 13,  0,  3,  3, 14, 14,  9,  3,  3, 14, 14, 10,  0,  9,\n",
       "        3, 14, 10,  3,  3,  3, 14, 10, 10, 13, 14, 13, 14,  9, 14, 13, 10,\n",
       "        9, 14,  3,  0, 10,  3,  3,  3, 14,  3,  9,  5, 13,  0, 14, 14,  5,\n",
       "        3,  3,  3,  3,  5, 14, 14, 14,  3,  3, 10,  3,  3,  3,  3, 14, 10,\n",
       "       14,  3, 14,  3,  9,  3,  3, 11,  3, 13,  0, 10,  3,  3,  3, 10,  0,\n",
       "       14,  9,  3,  0, 14, 14,  3, 14, 14, 10, 14,  0,  3,  3,  9,  9,  3,\n",
       "       14,  3,  9,  3, 10,  3,  3,  3,  0, 13, 14,  3,  3,  3, 10, 14,  3,\n",
       "        9,  9, 14, 14,  3, 10, 14,  9, 14,  9, 10, 10,  3, 10, 14,  3, 14,\n",
       "       14, 14, 10,  3,  0, 14,  5, 14,  0,  9, 14,  5,  3,  3, 10,  3, 14,\n",
       "       14, 13,  3, 14, 14, 14,  3,  0,  5,  3,  3, 11,  3, 13,  3, 13,  0,\n",
       "       14,  3, 10, 13,  9,  5, 14,  0, 14,  3,  9,  9, 13,  3, 13, 14, 14,\n",
       "        3, 10,  3, 10,  3,  3, 13,  3,  3,  3,  3,  3,  0,  3,  0, 14,  3,\n",
       "        9,  9, 10,  9,  0, 13, 13,  9,  3,  3, 10, 14, 14, 10, 14,  0, 14,\n",
       "       11,  3,  3, 14, 14, 14,  3,  9,  0,  0, 14,  9,  0,  3, 14, 14,  3,\n",
       "       14, 14,  3, 14,  3, 10, 14,  3, 11, 14, 10,  3, 14,  9, 14,  3,  5,\n",
       "       14, 14,  9, 13, 11,  3,  3, 10, 14,  3,  3,  3, 14, 13, 14, 13,  3,\n",
       "        3, 10,  0, 11, 10, 10, 10,  3,  3,  3,  3,  0, 14, 14, 14,  3,  3,\n",
       "        3,  3, 10,  3, 13,  0, 14, 14, 14, 10, 14, 10, 14,  3, 14, 10,  3,\n",
       "        9, 10,  3,  3,  3, 14, 14, 10, 14, 13, 14,  0, 14,  3,  9, 13, 10,\n",
       "       14,  3, 14, 10,  9,  3,  5, 11,  3, 10, 14,  3, 10, 13,  9,  3,  3,\n",
       "       14])"
      ]
     },
     "execution_count": 33,
     "metadata": {},
     "output_type": "execute_result"
    }
   ],
   "source": [
    "#pred 확인\n",
    "pred"
   ]
  },
  {
   "cell_type": "markdown",
   "id": "8c4e1a03",
   "metadata": {
    "papermill": {
     "duration": 0.05671,
     "end_time": "2022-06-19T05:44:40.622426",
     "exception": false,
     "start_time": "2022-06-19T05:44:40.565716",
     "status": "completed"
    },
    "tags": []
   },
   "source": [
    "### Step 8-2 : Making csv file with our predict result\n",
    "+ csv파일로 만드는 예시를 보여드립니다. "
   ]
  },
  {
   "cell_type": "code",
   "execution_count": 34,
   "id": "b6a96e0c",
   "metadata": {
    "execution": {
     "iopub.execute_input": "2022-06-19T05:44:40.741676Z",
     "iopub.status.busy": "2022-06-19T05:44:40.741179Z",
     "iopub.status.idle": "2022-06-19T05:44:40.788858Z",
     "shell.execute_reply": "2022-06-19T05:44:40.788020Z"
    },
    "papermill": {
     "duration": 0.110101,
     "end_time": "2022-06-19T05:44:40.790988",
     "exception": false,
     "start_time": "2022-06-19T05:44:40.680887",
     "status": "completed"
    },
    "tags": []
   },
   "outputs": [],
   "source": [
    "name=[]                                     # 그림의 Id를 담을 list 생성 \n",
    "category =[]                                # 그림의 Category를 담을 list 생성\n",
    "for i in range(test_data.__len__()):        #\n",
    "    name.append(test_set[i].split('/')[-1]) # 파일 이름에서 label만 가지고 옵니다. \n",
    "    category.append(classes[pred[i]])       # pred에 해당하는 class를 category에 집어 넣습니다. \n",
    "    \n",
    "    \n",
    "tm = localtime()\n",
    "csv_file_name = f\"{tm.tm_mday}day_{tm.tm_hour}h_{tm.tm_min}m_{tm.tm_sec}s\"\n",
    "\n",
    "#파일의 이름은 마음대로 설정할 수 있습니다. 경로를 쓰지 않으면 현재 디렉토리에 알아서 생성됩니다. \n",
    "pd.DataFrame({'Id':name,'Category':category}).to_csv(f'predict_{csv_file_name}.csv',index=False)                                                "
   ]
  },
  {
   "cell_type": "code",
   "execution_count": 35,
   "id": "7e4196ea",
   "metadata": {
    "execution": {
     "iopub.execute_input": "2022-06-19T05:44:40.906982Z",
     "iopub.status.busy": "2022-06-19T05:44:40.906675Z",
     "iopub.status.idle": "2022-06-19T05:44:41.160176Z",
     "shell.execute_reply": "2022-06-19T05:44:41.159096Z"
    },
    "papermill": {
     "duration": 0.31434,
     "end_time": "2022-06-19T05:44:41.162359",
     "exception": true,
     "start_time": "2022-06-19T05:44:40.848019",
     "status": "failed"
    },
    "tags": []
   },
   "outputs": [
    {
     "ename": "FileNotFoundError",
     "evalue": "[Errno 2] No such file or directory: './pt/model_19day_5h_44m_40s.pt'",
     "output_type": "error",
     "traceback": [
      "\u001b[0;31m---------------------------------------------------------------------------\u001b[0m",
      "\u001b[0;31mFileNotFoundError\u001b[0m                         Traceback (most recent call last)",
      "\u001b[0;32m/tmp/ipykernel_19/3916458656.py\u001b[0m in \u001b[0;36m<module>\u001b[0;34m\u001b[0m\n\u001b[1;32m      1\u001b[0m \u001b[0;31m#predict 하기 위해서 model 전체를 저장합니다. 체점을 위해서 필요한 과정입니다.\u001b[0m\u001b[0;34m\u001b[0m\u001b[0;34m\u001b[0m\u001b[0;34m\u001b[0m\u001b[0m\n\u001b[0;32m----> 2\u001b[0;31m \u001b[0mtorch\u001b[0m\u001b[0;34m.\u001b[0m\u001b[0msave\u001b[0m\u001b[0;34m(\u001b[0m\u001b[0mmodel\u001b[0m\u001b[0;34m,\u001b[0m\u001b[0;34mf'./pt/model_{csv_file_name}.pt'\u001b[0m\u001b[0;34m)\u001b[0m\u001b[0;34m\u001b[0m\u001b[0;34m\u001b[0m\u001b[0m\n\u001b[0m",
      "\u001b[0;32m/opt/conda/lib/python3.7/site-packages/torch/serialization.py\u001b[0m in \u001b[0;36msave\u001b[0;34m(obj, f, pickle_module, pickle_protocol, _use_new_zipfile_serialization)\u001b[0m\n\u001b[1;32m    374\u001b[0m     \u001b[0m_check_dill_version\u001b[0m\u001b[0;34m(\u001b[0m\u001b[0mpickle_module\u001b[0m\u001b[0;34m)\u001b[0m\u001b[0;34m\u001b[0m\u001b[0;34m\u001b[0m\u001b[0m\n\u001b[1;32m    375\u001b[0m \u001b[0;34m\u001b[0m\u001b[0m\n\u001b[0;32m--> 376\u001b[0;31m     \u001b[0;32mwith\u001b[0m \u001b[0m_open_file_like\u001b[0m\u001b[0;34m(\u001b[0m\u001b[0mf\u001b[0m\u001b[0;34m,\u001b[0m \u001b[0;34m'wb'\u001b[0m\u001b[0;34m)\u001b[0m \u001b[0;32mas\u001b[0m \u001b[0mopened_file\u001b[0m\u001b[0;34m:\u001b[0m\u001b[0;34m\u001b[0m\u001b[0;34m\u001b[0m\u001b[0m\n\u001b[0m\u001b[1;32m    377\u001b[0m         \u001b[0;32mif\u001b[0m \u001b[0m_use_new_zipfile_serialization\u001b[0m\u001b[0;34m:\u001b[0m\u001b[0;34m\u001b[0m\u001b[0;34m\u001b[0m\u001b[0m\n\u001b[1;32m    378\u001b[0m             \u001b[0;32mwith\u001b[0m \u001b[0m_open_zipfile_writer\u001b[0m\u001b[0;34m(\u001b[0m\u001b[0mopened_file\u001b[0m\u001b[0;34m)\u001b[0m \u001b[0;32mas\u001b[0m \u001b[0mopened_zipfile\u001b[0m\u001b[0;34m:\u001b[0m\u001b[0;34m\u001b[0m\u001b[0;34m\u001b[0m\u001b[0m\n",
      "\u001b[0;32m/opt/conda/lib/python3.7/site-packages/torch/serialization.py\u001b[0m in \u001b[0;36m_open_file_like\u001b[0;34m(name_or_buffer, mode)\u001b[0m\n\u001b[1;32m    228\u001b[0m \u001b[0;32mdef\u001b[0m \u001b[0m_open_file_like\u001b[0m\u001b[0;34m(\u001b[0m\u001b[0mname_or_buffer\u001b[0m\u001b[0;34m,\u001b[0m \u001b[0mmode\u001b[0m\u001b[0;34m)\u001b[0m\u001b[0;34m:\u001b[0m\u001b[0;34m\u001b[0m\u001b[0;34m\u001b[0m\u001b[0m\n\u001b[1;32m    229\u001b[0m     \u001b[0;32mif\u001b[0m \u001b[0m_is_path\u001b[0m\u001b[0;34m(\u001b[0m\u001b[0mname_or_buffer\u001b[0m\u001b[0;34m)\u001b[0m\u001b[0;34m:\u001b[0m\u001b[0;34m\u001b[0m\u001b[0;34m\u001b[0m\u001b[0m\n\u001b[0;32m--> 230\u001b[0;31m         \u001b[0;32mreturn\u001b[0m \u001b[0m_open_file\u001b[0m\u001b[0;34m(\u001b[0m\u001b[0mname_or_buffer\u001b[0m\u001b[0;34m,\u001b[0m \u001b[0mmode\u001b[0m\u001b[0;34m)\u001b[0m\u001b[0;34m\u001b[0m\u001b[0;34m\u001b[0m\u001b[0m\n\u001b[0m\u001b[1;32m    231\u001b[0m     \u001b[0;32melse\u001b[0m\u001b[0;34m:\u001b[0m\u001b[0;34m\u001b[0m\u001b[0;34m\u001b[0m\u001b[0m\n\u001b[1;32m    232\u001b[0m         \u001b[0;32mif\u001b[0m \u001b[0;34m'w'\u001b[0m \u001b[0;32min\u001b[0m \u001b[0mmode\u001b[0m\u001b[0;34m:\u001b[0m\u001b[0;34m\u001b[0m\u001b[0;34m\u001b[0m\u001b[0m\n",
      "\u001b[0;32m/opt/conda/lib/python3.7/site-packages/torch/serialization.py\u001b[0m in \u001b[0;36m__init__\u001b[0;34m(self, name, mode)\u001b[0m\n\u001b[1;32m    209\u001b[0m \u001b[0;32mclass\u001b[0m \u001b[0m_open_file\u001b[0m\u001b[0;34m(\u001b[0m\u001b[0m_opener\u001b[0m\u001b[0;34m)\u001b[0m\u001b[0;34m:\u001b[0m\u001b[0;34m\u001b[0m\u001b[0;34m\u001b[0m\u001b[0m\n\u001b[1;32m    210\u001b[0m     \u001b[0;32mdef\u001b[0m \u001b[0m__init__\u001b[0m\u001b[0;34m(\u001b[0m\u001b[0mself\u001b[0m\u001b[0;34m,\u001b[0m \u001b[0mname\u001b[0m\u001b[0;34m,\u001b[0m \u001b[0mmode\u001b[0m\u001b[0;34m)\u001b[0m\u001b[0;34m:\u001b[0m\u001b[0;34m\u001b[0m\u001b[0;34m\u001b[0m\u001b[0m\n\u001b[0;32m--> 211\u001b[0;31m         \u001b[0msuper\u001b[0m\u001b[0;34m(\u001b[0m\u001b[0m_open_file\u001b[0m\u001b[0;34m,\u001b[0m \u001b[0mself\u001b[0m\u001b[0;34m)\u001b[0m\u001b[0;34m.\u001b[0m\u001b[0m__init__\u001b[0m\u001b[0;34m(\u001b[0m\u001b[0mopen\u001b[0m\u001b[0;34m(\u001b[0m\u001b[0mname\u001b[0m\u001b[0;34m,\u001b[0m \u001b[0mmode\u001b[0m\u001b[0;34m)\u001b[0m\u001b[0;34m)\u001b[0m\u001b[0;34m\u001b[0m\u001b[0;34m\u001b[0m\u001b[0m\n\u001b[0m\u001b[1;32m    212\u001b[0m \u001b[0;34m\u001b[0m\u001b[0m\n\u001b[1;32m    213\u001b[0m     \u001b[0;32mdef\u001b[0m \u001b[0m__exit__\u001b[0m\u001b[0;34m(\u001b[0m\u001b[0mself\u001b[0m\u001b[0;34m,\u001b[0m \u001b[0;34m*\u001b[0m\u001b[0margs\u001b[0m\u001b[0;34m)\u001b[0m\u001b[0;34m:\u001b[0m\u001b[0;34m\u001b[0m\u001b[0;34m\u001b[0m\u001b[0m\n",
      "\u001b[0;31mFileNotFoundError\u001b[0m: [Errno 2] No such file or directory: './pt/model_19day_5h_44m_40s.pt'"
     ]
    }
   ],
   "source": [
    "#predict 하기 위해서 model 전체를 저장합니다. 체점을 위해서 필요한 과정입니다.\n",
    "torch.save(model,f'./pt/model_{csv_file_name}.pt') "
   ]
  },
  {
   "cell_type": "code",
   "execution_count": null,
   "id": "555e26c9",
   "metadata": {
    "execution": {
     "iopub.execute_input": "2022-06-17T12:50:02.9146Z",
     "iopub.status.busy": "2022-06-17T12:50:02.913142Z",
     "iopub.status.idle": "2022-06-17T12:50:02.920801Z",
     "shell.execute_reply": "2022-06-17T12:50:02.919821Z",
     "shell.execute_reply.started": "2022-06-17T12:50:02.914538Z"
    },
    "papermill": {
     "duration": null,
     "end_time": null,
     "exception": null,
     "start_time": null,
     "status": "pending"
    },
    "tags": []
   },
   "outputs": [],
   "source": [
    "print(name[:5])\n",
    "print(category[:5])"
   ]
  },
  {
   "cell_type": "code",
   "execution_count": null,
   "id": "536a90b2",
   "metadata": {
    "execution": {
     "iopub.execute_input": "2022-06-17T12:50:04.917504Z",
     "iopub.status.busy": "2022-06-17T12:50:04.916185Z",
     "iopub.status.idle": "2022-06-17T12:50:04.942649Z",
     "shell.execute_reply": "2022-06-17T12:50:04.941805Z",
     "shell.execute_reply.started": "2022-06-17T12:50:04.91743Z"
    },
    "papermill": {
     "duration": null,
     "end_time": null,
     "exception": null,
     "start_time": null,
     "status": "pending"
    },
    "tags": []
   },
   "outputs": [],
   "source": [
    "# 잘 생성됬는지 확인 , 따로 경로를 설정하지 않았다면,현재 디렉토리에 자동으로 생성됩니다. \n",
    "pd.read_csv(f'./predict_{csv_file_name}.csv')"
   ]
  },
  {
   "cell_type": "markdown",
   "id": "6fb30fc7",
   "metadata": {
    "papermill": {
     "duration": null,
     "end_time": null,
     "exception": null,
     "start_time": null,
     "status": "pending"
    },
    "tags": []
   },
   "source": [
    "## 생성한 csv파일을 kaggle에 등록하시면 됩니다.\n",
    "\n"
   ]
  }
 ],
 "metadata": {
  "kernelspec": {
   "display_name": "Python 3",
   "language": "python",
   "name": "python3"
  },
  "language_info": {
   "codemirror_mode": {
    "name": "ipython",
    "version": 3
   },
   "file_extension": ".py",
   "mimetype": "text/x-python",
   "name": "python",
   "nbconvert_exporter": "python",
   "pygments_lexer": "ipython3",
   "version": "3.7.12"
  },
  "papermill": {
   "default_parameters": {},
   "duration": 1160.705349,
   "end_time": "2022-06-19T05:44:43.583888",
   "environment_variables": {},
   "exception": true,
   "input_path": "__notebook__.ipynb",
   "output_path": "__notebook__.ipynb",
   "parameters": {},
   "start_time": "2022-06-19T05:25:22.878539",
   "version": "2.3.4"
  }
 },
 "nbformat": 4,
 "nbformat_minor": 5
}
